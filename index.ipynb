{
 "cells": [
  {
   "cell_type": "markdown",
   "metadata": {},
   "source": [
    "# Your First Data Science Codealong!\n",
    "\n",
    "## Introduction\n",
    "\n",
    "In this codealong, you'll get to do your first taste of a real data science workflow! You'll use Jupyter Notebook to import pre-written libraries, import data into your notebook from a Comma Seperated Values file (a .csv file) and you'll even get to create some plots!\n",
    "\n",
    "Don't worry if it feels like a lot or you get confused on this codealogn. Our goal here is just to give you a taste of what you'll be able to do as a data scientist, and afterwards, we'll go back and re-introduce all of the concepts that we skimmed over this time through, so by the end of the section you should have a much stronger understanding of this - even if you have no previous experience of programming.\n",
    "\n",
    "Don't worry about running tests for this notebook. Just take your time to explore the data and the code."
   ]
  },
  {
   "cell_type": "markdown",
   "metadata": {},
   "source": [
    "## Objectives\n",
    "You will be able to:\n",
    "* Code along (following detailed instructions) to import a csv file and then plot the data"
   ]
  },
  {
   "cell_type": "markdown",
   "metadata": {},
   "source": [
    "## Jupyter Notebook and Running Cells\n",
    "\n",
    "**Welcome to programming!**\n",
    "Juptyer Notebooks (historically called IPythonNotebooks) will be our primary tool when conducting data science. The first thing to know with this is that each cell block [of code] can be run be pressing **shift+enter**. Try running the below code block:"
   ]
  },
  {
   "cell_type": "code",
   "execution_count": 1,
   "metadata": {},
   "outputs": [
    {
     "name": "stdout",
     "output_type": "stream",
     "text": [
      "This is code being run.\n"
     ]
    }
   ],
   "source": [
    "print('This is code being run.')"
   ]
  },
  {
   "cell_type": "markdown",
   "metadata": {},
   "source": [
    "## Importing Packages\n",
    "The next thing we're going to do is load in some python packages that will be part of our toolbox for manipulating and analyzing data. The standard python package for working with data tables is called **pandas**. Below, we import this under the **alias** pd, which is the industry standard. This will give us a shorthand way to access special functions and methods within the package without having to type the longer name pandas. \n",
    "\n",
    "* Again, press **shift+enter** to run the code below"
   ]
  },
  {
   "cell_type": "code",
   "execution_count": 2,
   "metadata": {},
   "outputs": [],
   "source": [
    "import pandas as pd\n",
    "import matplotlib.pyplot as plt\n",
    "%matplotlib inline"
   ]
  },
  {
   "cell_type": "markdown",
   "metadata": {},
   "source": [
    "# Jupyter Notebook Cell Types\n",
    "\n",
    "You might have started to notice that the code blocks have little notes that say **In [ ]:** before you run them, and then are filled with a number after you run them. This is important, as it tells you what order cell blocks were run. (Which can sometimes affect how a program runs.)\n",
    "\n",
    "You may also notice that other cell blocks, such as this one, do not have the **In [ ]:** label as with the code blocks. This is because this cell block is formatted as **Markdown** rather then code. You can see (and change) what type of cell is by clicking the dropdown menu at the top:\n",
    "<img src=\"Jupyter_Notebook_Cell_Type_Dropdown.png\" width=600>"
   ]
  },
  {
   "cell_type": "markdown",
   "metadata": {},
   "source": [
    "# Command Versus Edit Mode\n",
    "\n",
    "You should also start to notice that when you are in a cell writing code (or notes), the cell is highlighted in **green** meaning you are in **edit mode**. \n",
    "\n",
    "Alternatively, if you **press esc**, the cursor will be in **blue** inidicating that you are in **command mode**.\n",
    "\n",
    "### Edit Mode\n",
    "Edit mode is the standard mode for editing cells, whether its writing code or notes.\n",
    "To enter edit mode from command mode simply hit enter, or double click on a cell.\n",
    "\n",
    "### Command Mode\n",
    "In command mode, you can delete cells, add cells, copy cells, paste cells, change cell types, and more. You can also do these tasks in a more cumbersome (and time consuming) manner by using the various headers in the menu bar at top.\n",
    "<img src=\"Jupyter_Menu.png\" width=600>\n",
    "You can also see a full list of shortcuts available in command and edit mode under the help menu.\n",
    "\n",
    "<img src=\"Jupyter_Help_Menu.png\" width=600>"
   ]
  },
  {
   "cell_type": "markdown",
   "metadata": {},
   "source": [
    "# Running Bash Commands\n",
    "\n",
    "We can also run bash commands just as we did before from the terminal directly within iPython notebooks!  \n",
    " (Note: bash commands cannot be mixed with python and must be in their own cell block.)   \n",
    " \n",
    "Try it out!"
   ]
  },
  {
   "cell_type": "code",
   "execution_count": 3,
   "metadata": {},
   "outputs": [
    {
     "data": {
      "text/plain": [
       "'H:\\\\Projects\\\\Flatiron\\\\DSFT041519\\\\Module1\\\\dsc-1-01-08-your-first-data-science-codealong-online-ds-ft-041519'"
      ]
     },
     "execution_count": 3,
     "metadata": {},
     "output_type": "execute_result"
    }
   ],
   "source": [
    "pwd"
   ]
  },
  {
   "cell_type": "code",
   "execution_count": 4,
   "metadata": {},
   "outputs": [
    {
     "name": "stdout",
     "output_type": "stream",
     "text": [
      " Volume in drive H is CommonShare\n",
      " Volume Serial Number is 109F-0492\n",
      "\n",
      " Directory of H:\\Projects\\Flatiron\\DSFT041519\\Module1\\dsc-1-01-08-your-first-data-science-codealong-online-ds-ft-041519\n",
      "\n",
      "05/16/2019  12:45 AM    <DIR>          .\n",
      "05/16/2019  12:45 AM    <DIR>          ..\n",
      "05/16/2019  12:45 AM                69 .gitignore\n",
      "05/16/2019  09:10 AM    <DIR>          .ipynb_checkpoints\n",
      "05/16/2019  12:45 AM                96 .learn\n",
      "05/16/2019  12:45 AM             1,849 CONTRIBUTING.md\n",
      "05/16/2019  12:45 AM           340,822 docstring.png\n",
      "05/16/2019  12:45 AM           182,046 docstring_preview.png\n",
      "05/22/2019  06:57 PM            85,105 index.ipynb\n",
      "05/16/2019  12:45 AM    <DIR>          index_files\n",
      "05/16/2019  12:45 AM           380,469 Jupyter_Help_Menu.png\n",
      "05/16/2019  12:45 AM           111,406 Jupyter_Menu.png\n",
      "05/16/2019  12:45 AM           356,683 Jupyter_Notebook_Cell_Type_Dropdown.png\n",
      "05/16/2019  12:45 AM        18,805,547 lego_sets.csv\n",
      "05/16/2019  12:45 AM             1,371 LICENSE.md\n",
      "05/16/2019  12:45 AM           104,051 pd_methods.png\n",
      "05/16/2019  12:45 AM            95,181 pd_read_methods.png\n",
      "05/16/2019  12:45 AM           215,763 python_built_in_functions.png\n",
      "05/16/2019  12:45 AM            18,891 README.md\n",
      "05/16/2019  12:45 AM            84,267 string-slicing.png\n",
      "              16 File(s)     20,783,616 bytes\n",
      "               4 Dir(s)  141,596,524,544 bytes free\n"
     ]
    }
   ],
   "source": [
    "ls"
   ]
  },
  {
   "cell_type": "markdown",
   "metadata": {},
   "source": [
    "## Loading a DataFrame\n",
    "The primary datatype within the pandas package is called a dataframe and is similar to a spreadsheet in excel. Here's a brief example of loading a csv file from your hard drive:"
   ]
  },
  {
   "cell_type": "code",
   "execution_count": 5,
   "metadata": {},
   "outputs": [
    {
     "name": "stdout",
     "output_type": "stream",
     "text": [
      "12261\n"
     ]
    },
    {
     "data": {
      "text/html": [
       "<div>\n",
       "<style scoped>\n",
       "    .dataframe tbody tr th:only-of-type {\n",
       "        vertical-align: middle;\n",
       "    }\n",
       "\n",
       "    .dataframe tbody tr th {\n",
       "        vertical-align: top;\n",
       "    }\n",
       "\n",
       "    .dataframe thead th {\n",
       "        text-align: right;\n",
       "    }\n",
       "</style>\n",
       "<table border=\"1\" class=\"dataframe\">\n",
       "  <thead>\n",
       "    <tr style=\"text-align: right;\">\n",
       "      <th></th>\n",
       "      <th>ages</th>\n",
       "      <th>list_price</th>\n",
       "      <th>num_reviews</th>\n",
       "      <th>piece_count</th>\n",
       "      <th>play_star_rating</th>\n",
       "      <th>prod_desc</th>\n",
       "      <th>prod_id</th>\n",
       "      <th>prod_long_desc</th>\n",
       "      <th>review_difficulty</th>\n",
       "      <th>set_name</th>\n",
       "      <th>star_rating</th>\n",
       "      <th>theme_name</th>\n",
       "      <th>val_star_rating</th>\n",
       "      <th>country</th>\n",
       "    </tr>\n",
       "  </thead>\n",
       "  <tbody>\n",
       "    <tr>\n",
       "      <th>0</th>\n",
       "      <td>6-12</td>\n",
       "      <td>29.99</td>\n",
       "      <td>2.0</td>\n",
       "      <td>277.0</td>\n",
       "      <td>4.0</td>\n",
       "      <td>Catapult into action and take back the eggs fr...</td>\n",
       "      <td>75823.0</td>\n",
       "      <td>Use the staircase catapult to launch Red into ...</td>\n",
       "      <td>Average</td>\n",
       "      <td>Bird Island Egg Heist</td>\n",
       "      <td>4.5</td>\n",
       "      <td>Angry Birds™</td>\n",
       "      <td>4.0</td>\n",
       "      <td>US</td>\n",
       "    </tr>\n",
       "    <tr>\n",
       "      <th>1</th>\n",
       "      <td>6-12</td>\n",
       "      <td>19.99</td>\n",
       "      <td>2.0</td>\n",
       "      <td>168.0</td>\n",
       "      <td>4.0</td>\n",
       "      <td>Launch a flying attack and rescue the eggs fro...</td>\n",
       "      <td>75822.0</td>\n",
       "      <td>Pilot Pig has taken off from Bird Island with ...</td>\n",
       "      <td>Easy</td>\n",
       "      <td>Piggy Plane Attack</td>\n",
       "      <td>5.0</td>\n",
       "      <td>Angry Birds™</td>\n",
       "      <td>4.0</td>\n",
       "      <td>US</td>\n",
       "    </tr>\n",
       "    <tr>\n",
       "      <th>2</th>\n",
       "      <td>6-12</td>\n",
       "      <td>12.99</td>\n",
       "      <td>11.0</td>\n",
       "      <td>74.0</td>\n",
       "      <td>4.3</td>\n",
       "      <td>Chase the piggy with lightning-fast Chuck and ...</td>\n",
       "      <td>75821.0</td>\n",
       "      <td>Pitch speedy bird Chuck against the Piggy Car....</td>\n",
       "      <td>Easy</td>\n",
       "      <td>Piggy Car Escape</td>\n",
       "      <td>4.3</td>\n",
       "      <td>Angry Birds™</td>\n",
       "      <td>4.1</td>\n",
       "      <td>US</td>\n",
       "    </tr>\n",
       "    <tr>\n",
       "      <th>3</th>\n",
       "      <td>12+</td>\n",
       "      <td>99.99</td>\n",
       "      <td>23.0</td>\n",
       "      <td>1032.0</td>\n",
       "      <td>3.6</td>\n",
       "      <td>Explore the architecture of the United States ...</td>\n",
       "      <td>21030.0</td>\n",
       "      <td>Discover the architectural secrets of the icon...</td>\n",
       "      <td>Average</td>\n",
       "      <td>United States Capitol Building</td>\n",
       "      <td>4.6</td>\n",
       "      <td>Architecture</td>\n",
       "      <td>4.3</td>\n",
       "      <td>US</td>\n",
       "    </tr>\n",
       "    <tr>\n",
       "      <th>4</th>\n",
       "      <td>12+</td>\n",
       "      <td>79.99</td>\n",
       "      <td>14.0</td>\n",
       "      <td>744.0</td>\n",
       "      <td>3.2</td>\n",
       "      <td>Recreate the Solomon R. Guggenheim Museum® wit...</td>\n",
       "      <td>21035.0</td>\n",
       "      <td>Discover the architectural secrets of Frank Ll...</td>\n",
       "      <td>Challenging</td>\n",
       "      <td>Solomon R. Guggenheim Museum®</td>\n",
       "      <td>4.6</td>\n",
       "      <td>Architecture</td>\n",
       "      <td>4.1</td>\n",
       "      <td>US</td>\n",
       "    </tr>\n",
       "  </tbody>\n",
       "</table>\n",
       "</div>"
      ],
      "text/plain": [
       "   ages  list_price  num_reviews  piece_count  play_star_rating  \\\n",
       "0  6-12       29.99          2.0        277.0               4.0   \n",
       "1  6-12       19.99          2.0        168.0               4.0   \n",
       "2  6-12       12.99         11.0         74.0               4.3   \n",
       "3   12+       99.99         23.0       1032.0               3.6   \n",
       "4   12+       79.99         14.0        744.0               3.2   \n",
       "\n",
       "                                           prod_desc  prod_id  \\\n",
       "0  Catapult into action and take back the eggs fr...  75823.0   \n",
       "1  Launch a flying attack and rescue the eggs fro...  75822.0   \n",
       "2  Chase the piggy with lightning-fast Chuck and ...  75821.0   \n",
       "3  Explore the architecture of the United States ...  21030.0   \n",
       "4  Recreate the Solomon R. Guggenheim Museum® wit...  21035.0   \n",
       "\n",
       "                                      prod_long_desc review_difficulty  \\\n",
       "0  Use the staircase catapult to launch Red into ...           Average   \n",
       "1  Pilot Pig has taken off from Bird Island with ...              Easy   \n",
       "2  Pitch speedy bird Chuck against the Piggy Car....              Easy   \n",
       "3  Discover the architectural secrets of the icon...           Average   \n",
       "4  Discover the architectural secrets of Frank Ll...       Challenging   \n",
       "\n",
       "                         set_name  star_rating    theme_name  val_star_rating  \\\n",
       "0           Bird Island Egg Heist          4.5  Angry Birds™              4.0   \n",
       "1              Piggy Plane Attack          5.0  Angry Birds™              4.0   \n",
       "2                Piggy Car Escape          4.3  Angry Birds™              4.1   \n",
       "3  United States Capitol Building          4.6  Architecture              4.3   \n",
       "4   Solomon R. Guggenheim Museum®          4.6  Architecture              4.1   \n",
       "\n",
       "  country  \n",
       "0      US  \n",
       "1      US  \n",
       "2      US  \n",
       "3      US  \n",
       "4      US  "
      ]
     },
     "execution_count": 5,
     "metadata": {},
     "output_type": "execute_result"
    }
   ],
   "source": [
    "df = pd.read_csv('lego_sets.csv') #Loads the dataframe in\n",
    "print(len(df)) #Prints the length of the dataframe\n",
    "df.head() #Uses a built in method common to all Pandas Dataframes"
   ]
  },
  {
   "cell_type": "code",
   "execution_count": 7,
   "metadata": {},
   "outputs": [
    {
     "data": {
      "text/plain": [
       "pandas.core.frame.DataFrame"
      ]
     },
     "execution_count": 7,
     "metadata": {},
     "output_type": "execute_result"
    }
   ],
   "source": [
    "type(df)"
   ]
  },
  {
   "cell_type": "markdown",
   "metadata": {},
   "source": [
    "# Python Comments\n",
    "\n",
    "Note the green text following the **#**.  \n",
    "Anything following a **#** in python is a comment and will not actually execute.  \n",
    "This is a useful feature for annotating your code with notes for yourself and other later so that your code is easy to read."
   ]
  },
  {
   "cell_type": "markdown",
   "metadata": {},
   "source": [
    "# Accessing Methods from Packages and Objects\n",
    "\n",
    "A little more theory and context:\n",
    "\n",
    "When we loaded in packages on our first cell block (import pandas as pd), we loaded code into memory. That code included functions, variables and other objects. Collectively, all of these items is loaded under the package name or alias.  \n",
    "\n",
    "We demonstrated this when we used the **pd.read_csv()** method above.  \n",
    "\n",
    "This also demonstrates the **dot notation** in python, which is how we access built in methods or attriubtes of a given object. Similar to what we saw with bash in the command line, we can also use **tab completion** to preview methods available in packages or other objects.  \n",
    "\n",
    "### Try this out yourself\n",
    "\n",
    "* In the cell below, navigate your cursor to the right of **pd.**\n",
    "* Press tab to see a list of available methods/attributes\n",
    "\n",
    "<img src=\"pd_methods.png\" width=600>"
   ]
  },
  {
   "cell_type": "code",
   "execution_count": 8,
   "metadata": {},
   "outputs": [
    {
     "ename": "SyntaxError",
     "evalue": "invalid syntax (<ipython-input-8-bc888235687a>, line 1)",
     "output_type": "error",
     "traceback": [
      "\u001b[1;36m  File \u001b[1;32m\"<ipython-input-8-bc888235687a>\"\u001b[1;36m, line \u001b[1;32m1\u001b[0m\n\u001b[1;33m    pd.\u001b[0m\n\u001b[1;37m       ^\u001b[0m\n\u001b[1;31mSyntaxError\u001b[0m\u001b[1;31m:\u001b[0m invalid syntax\n"
     ]
    }
   ],
   "source": [
    "pd."
   ]
  },
  {
   "cell_type": "markdown",
   "metadata": {},
   "source": [
    "You can also start typing to subset the list of available commands:\n",
    "<img src=\"pd_read_methods.png\" width=600>"
   ]
  },
  {
   "cell_type": "markdown",
   "metadata": {},
   "source": [
    "# Pulling up Docstrings\n",
    "\n",
    "Even better, you can even see how a method works by pulling up its **docstring**!  \n",
    "You can do this by writing **?** after the method and running the cell.\n",
    "\n",
    "<img src=\"docstring.png\" width=500> \n",
    "\n",
    "\n",
    "Try it out!"
   ]
  },
  {
   "cell_type": "code",
   "execution_count": 9,
   "metadata": {},
   "outputs": [],
   "source": [
    "pd.read_csv?"
   ]
  },
  {
   "cell_type": "markdown",
   "metadata": {},
   "source": [
    "Alternatively, you can pull up a preview of the docstring by pressing **shift+tab within the parentheses of a method**\n",
    "<img src=\"docstring_preview.png\" width=500>"
   ]
  },
  {
   "cell_type": "code",
   "execution_count": 10,
   "metadata": {},
   "outputs": [
    {
     "ename": "TypeError",
     "evalue": "parser_f() missing 1 required positional argument: 'filepath_or_buffer'",
     "output_type": "error",
     "traceback": [
      "\u001b[1;31m---------------------------------------------------------------------------\u001b[0m",
      "\u001b[1;31mTypeError\u001b[0m                                 Traceback (most recent call last)",
      "\u001b[1;32m<ipython-input-10-59ba97e74ff2>\u001b[0m in \u001b[0;36m<module>\u001b[1;34m()\u001b[0m\n\u001b[1;32m----> 1\u001b[1;33m \u001b[0mpd\u001b[0m\u001b[1;33m.\u001b[0m\u001b[0mread_csv\u001b[0m\u001b[1;33m(\u001b[0m\u001b[1;33m)\u001b[0m \u001b[1;31m#Move your cursor inside the parentheses and press shift+tab\u001b[0m\u001b[1;33m\u001b[0m\u001b[0m\n\u001b[0m",
      "\u001b[1;31mTypeError\u001b[0m: parser_f() missing 1 required positional argument: 'filepath_or_buffer'"
     ]
    }
   ],
   "source": [
    "pd.read_csv() #Move your cursor inside the parentheses and press shift+tab"
   ]
  },
  {
   "cell_type": "markdown",
   "metadata": {},
   "source": [
    "# Variables\n",
    "\n",
    "The other thing that happened in our block of code above was that we defined a **variable**.  \n",
    "\n",
    "This happened in the first line of code:  \n",
    "```df = pd.read_csv('lego_sets.csv')```\n",
    "\n",
    "As we saw, we used the built in *read_csv* method from the *pandas* package which we imported under the *alias* *pd*.  \n",
    "\n",
    "The output of this method was then assigned to the variable *df*. This is the standard syntax for declaring any variable. You do not have to specify variable types, as in many other programming languages. Simply:  \n",
    "\n",
    "`variable_name = what_to_stor_in_the_variable`"
   ]
  },
  {
   "cell_type": "markdown",
   "metadata": {},
   "source": [
    "# Built in Python Functions\n",
    "\n",
    "We also used two built in python functions:  \n",
    "    * len() #Returns the lenght of an object\n",
    "    * print() #Prints stuff!\n",
    "In general, **python has reserved keywords** for built in functions like this. \n",
    "**Be sure to not name your variables any of these!**\n",
    "\n",
    "<img src=\"python_built_in_functions.png\" width=600>"
   ]
  },
  {
   "cell_type": "markdown",
   "metadata": {},
   "source": [
    "You can also check what type of object something is using the built in **type()** method. This can be useful when determining how to work with an object that you are unfamiliar with."
   ]
  },
  {
   "cell_type": "code",
   "execution_count": 11,
   "metadata": {},
   "outputs": [
    {
     "data": {
      "text/plain": [
       "pandas.core.frame.DataFrame"
      ]
     },
     "execution_count": 11,
     "metadata": {},
     "output_type": "execute_result"
    }
   ],
   "source": [
    "type(df)"
   ]
  },
  {
   "cell_type": "markdown",
   "metadata": {},
   "source": [
    "# Common DataFrame Methods\n",
    "As you can see, our variable **df** is a DataFrame object (which is part of the Pandas core package). Here's some other common methods you will want to become familiar with when working with Pandas dataframes:  \n",
    "* df.head() \n",
    "    * Preview the first 5 rows of a dataframe. Pass a number for more/less rows\n",
    "* df.tail(10) \n",
    "    * Preview last 10 rows (default 5 if no number given)\n",
    "* df.info() \n",
    "    * Returns column names and details about each column\n",
    "* df.columns \n",
    "    * Return column names. Note that there is no parentheses for this. This is becuase this is an attribute as opposed to a method"
   ]
  },
  {
   "cell_type": "code",
   "execution_count": 12,
   "metadata": {},
   "outputs": [
    {
     "name": "stdout",
     "output_type": "stream",
     "text": [
      "<class 'pandas.core.indexes.base.Index'>\n"
     ]
    },
    {
     "data": {
      "text/plain": [
       "Index(['ages', 'list_price', 'num_reviews', 'piece_count', 'play_star_rating',\n",
       "       'prod_desc', 'prod_id', 'prod_long_desc', 'review_difficulty',\n",
       "       'set_name', 'star_rating', 'theme_name', 'val_star_rating', 'country'],\n",
       "      dtype='object')"
      ]
     },
     "execution_count": 12,
     "metadata": {},
     "output_type": "execute_result"
    }
   ],
   "source": [
    "print(type(df.columns))\n",
    "df.columns"
   ]
  },
  {
   "cell_type": "code",
   "execution_count": 13,
   "metadata": {},
   "outputs": [],
   "source": [
    "#Use tab completion to investigate at least 3 other methods under the df object. \n",
    "#Pull up their docstrings and investigate what they do.\n",
    "#df.head()\n",
    "#df.tail()\n",
    "#df.info()\n"
   ]
  },
  {
   "cell_type": "markdown",
   "metadata": {},
   "source": [
    "# Pandas Series\n",
    "\n",
    "While the entire spreadsheet is called a **dataframe**, each individual column is known as a **series**. You can access a specific column of a pandas dataframe one of two ways:  \n",
    "\n",
    "`df['col_name']`\n",
    "\n",
    "or  \n",
    "\n",
    "```df.col_name```\n",
    "\n",
    "First note that in `df['col_name']` we need 'quotations' around the column name. The quotations denote the column name is a **string**, python's built in variable type for storing text. This can alternatively be replaced with double quotes `df[\"col_name\"]`. In general, anything in quotations is a string in python code. Occassionally, with very ill formatted column names with quotations in the names themselves, you may even need to wrap a name in triple quotes `df[\"\"\"col_name\"\"\"]` . This will rarely happen in this particular context, but is also the general pattern for dealing with messy strings.   \n",
    "\n",
    "Note that the second method, `df.col_name`, will only work if there are no spaces within the name of the column. Similarly to tab completion with the command line, this is a primary reason why programers use dashes (-) and underscores (_) in lieu of whitespace in their variable and file names. Also note that no quotations are used when using this format. (The column names have been stored as attributes to the DataFrame object!)"
   ]
  },
  {
   "cell_type": "code",
   "execution_count": 14,
   "metadata": {},
   "outputs": [
    {
     "name": "stdout",
     "output_type": "stream",
     "text": [
      "0    6-12\n",
      "1    6-12\n",
      "2    6-12\n",
      "3     12+\n",
      "4     12+\n",
      "Name: ages, dtype: object\n",
      "0    6-12\n",
      "1    6-12\n",
      "2    6-12\n",
      "3     12+\n",
      "4     12+\n",
      "Name: ages, dtype: object\n"
     ]
    }
   ],
   "source": [
    "#Previewing Data\n",
    "print(df['ages'].head())\n",
    "print(df.ages.head())"
   ]
  },
  {
   "cell_type": "code",
   "execution_count": 15,
   "metadata": {},
   "outputs": [
    {
     "data": {
      "text/html": [
       "<div>\n",
       "<style scoped>\n",
       "    .dataframe tbody tr th:only-of-type {\n",
       "        vertical-align: middle;\n",
       "    }\n",
       "\n",
       "    .dataframe tbody tr th {\n",
       "        vertical-align: top;\n",
       "    }\n",
       "\n",
       "    .dataframe thead th {\n",
       "        text-align: right;\n",
       "    }\n",
       "</style>\n",
       "<table border=\"1\" class=\"dataframe\">\n",
       "  <thead>\n",
       "    <tr style=\"text-align: right;\">\n",
       "      <th></th>\n",
       "      <th>ages</th>\n",
       "      <th>list_price</th>\n",
       "      <th>num_reviews</th>\n",
       "      <th>piece_count</th>\n",
       "      <th>play_star_rating</th>\n",
       "      <th>prod_desc</th>\n",
       "      <th>prod_id</th>\n",
       "      <th>prod_long_desc</th>\n",
       "      <th>review_difficulty</th>\n",
       "      <th>set_name</th>\n",
       "      <th>star_rating</th>\n",
       "      <th>theme_name</th>\n",
       "      <th>val_star_rating</th>\n",
       "      <th>country</th>\n",
       "    </tr>\n",
       "  </thead>\n",
       "  <tbody>\n",
       "    <tr>\n",
       "      <th>0</th>\n",
       "      <td>6-12</td>\n",
       "      <td>29.99</td>\n",
       "      <td>2.0</td>\n",
       "      <td>277.0</td>\n",
       "      <td>4.0</td>\n",
       "      <td>Catapult into action and take back the eggs fr...</td>\n",
       "      <td>75823.0</td>\n",
       "      <td>Use the staircase catapult to launch Red into ...</td>\n",
       "      <td>Average</td>\n",
       "      <td>Bird Island Egg Heist</td>\n",
       "      <td>4.5</td>\n",
       "      <td>Angry Birds™</td>\n",
       "      <td>4.0</td>\n",
       "      <td>US</td>\n",
       "    </tr>\n",
       "    <tr>\n",
       "      <th>1</th>\n",
       "      <td>6-12</td>\n",
       "      <td>19.99</td>\n",
       "      <td>2.0</td>\n",
       "      <td>168.0</td>\n",
       "      <td>4.0</td>\n",
       "      <td>Launch a flying attack and rescue the eggs fro...</td>\n",
       "      <td>75822.0</td>\n",
       "      <td>Pilot Pig has taken off from Bird Island with ...</td>\n",
       "      <td>Easy</td>\n",
       "      <td>Piggy Plane Attack</td>\n",
       "      <td>5.0</td>\n",
       "      <td>Angry Birds™</td>\n",
       "      <td>4.0</td>\n",
       "      <td>US</td>\n",
       "    </tr>\n",
       "  </tbody>\n",
       "</table>\n",
       "</div>"
      ],
      "text/plain": [
       "   ages  list_price  num_reviews  piece_count  play_star_rating  \\\n",
       "0  6-12       29.99          2.0        277.0               4.0   \n",
       "1  6-12       19.99          2.0        168.0               4.0   \n",
       "\n",
       "                                           prod_desc  prod_id  \\\n",
       "0  Catapult into action and take back the eggs fr...  75823.0   \n",
       "1  Launch a flying attack and rescue the eggs fro...  75822.0   \n",
       "\n",
       "                                      prod_long_desc review_difficulty  \\\n",
       "0  Use the staircase catapult to launch Red into ...           Average   \n",
       "1  Pilot Pig has taken off from Bird Island with ...              Easy   \n",
       "\n",
       "                set_name  star_rating    theme_name  val_star_rating country  \n",
       "0  Bird Island Egg Heist          4.5  Angry Birds™              4.0      US  \n",
       "1     Piggy Plane Attack          5.0  Angry Birds™              4.0      US  "
      ]
     },
     "execution_count": 15,
     "metadata": {},
     "output_type": "execute_result"
    }
   ],
   "source": [
    "df.head(2) #preview your spreadsheet again; 2 keeps it a nice small preview"
   ]
  },
  {
   "cell_type": "code",
   "execution_count": 16,
   "metadata": {},
   "outputs": [
    {
     "data": {
      "text/plain": [
       "0    6-12\n",
       "1    6-12\n",
       "2    6-12\n",
       "3     12+\n",
       "4     12+\n",
       "Name: ages, dtype: object"
      ]
     },
     "execution_count": 16,
     "metadata": {},
     "output_type": "execute_result"
    }
   ],
   "source": [
    "df.ages.head()"
   ]
  },
  {
   "cell_type": "code",
   "execution_count": 17,
   "metadata": {},
   "outputs": [
    {
     "data": {
      "text/plain": [
       "0    6-12\n",
       "1    6-12\n",
       "2    6-12\n",
       "3     12+\n",
       "4     12+\n",
       "Name: ages, dtype: object"
      ]
     },
     "execution_count": 17,
     "metadata": {},
     "output_type": "execute_result"
    }
   ],
   "source": [
    "df.ages[:5] #Here we introduce another new syntax the list slice [:5] this limits us to the first 5 items"
   ]
  },
  {
   "cell_type": "markdown",
   "metadata": {},
   "source": [
    "# List and Series Slices\n",
    "Above, we introduced an entirely new programming pattern called a slice.  \n",
    "The syntax for a slice is `[start:end]`.   \n",
    "\n",
    "You can also pass an additional third parameter `[start:end:count_by]` which will allow you to:  \n",
    "count every other: `[start:end:2]`  \n",
    "count backwards: `start:end:-1]`  \n",
    "or potentially much more cryptic patterns, depending on what you pass.  \n",
    "\n",
    "While we could have also used `df.State.head()`, slicing works for many more datatypes. This includes the previously mentioned *strings* as well as **lists** and other iterable objects. **Series**, the columns of the pandas DataFrame are similar to python's built in *lists*, but also have additional *methods* built in to them that we will continue to investigate."
   ]
  },
  {
   "cell_type": "code",
   "execution_count": 18,
   "metadata": {},
   "outputs": [
    {
     "data": {
      "text/plain": [
       "3      12+\n",
       "5      12+\n",
       "7      12+\n",
       "9      12+\n",
       "11     12+\n",
       "13    7-12\n",
       "Name: ages, dtype: object"
      ]
     },
     "execution_count": 18,
     "metadata": {},
     "output_type": "execute_result"
    }
   ],
   "source": [
    "df.ages[3:15:2]"
   ]
  },
  {
   "cell_type": "code",
   "execution_count": 19,
   "metadata": {},
   "outputs": [
    {
     "data": {
      "text/plain": [
       "0     277.0\n",
       "1     168.0\n",
       "2      74.0\n",
       "3    1032.0\n",
       "4     744.0\n",
       "Name: piece_count, dtype: float64"
      ]
     },
     "execution_count": 19,
     "metadata": {},
     "output_type": "execute_result"
    }
   ],
   "source": [
    "df.piece_count.head()"
   ]
  },
  {
   "cell_type": "markdown",
   "metadata": {},
   "source": [
    "# Common Series Methods\n",
    "Some very useful series methods include:  \n",
    "* df.col_name.value_counts()\n",
    "* df.col_name.astype()\n",
    "* series.mean()     #Changing notation here: series refers to df.col_name (which is a series)!\n",
    "* series.median()\n",
    "* series.min()\n",
    "* series.max()\n",
    "* series.std()\n",
    "* series.unique()\n",
    "* series.nunique()\n",
    "* series.sample()\n",
    "* series.sort_values()\n",
    "\n",
    "There are also many more but this is a very good starting point.\n",
    "Start pulling up some docstrings and getting acquainted with reading them yourself before we go through a few of these methods together."
   ]
  },
  {
   "cell_type": "code",
   "execution_count": 20,
   "metadata": {},
   "outputs": [
    {
     "data": {
      "text/plain": [
       "5.0    2219\n",
       "4.5    1136\n",
       "4.7     840\n",
       "4.0     816\n",
       "4.3     793\n",
       "Name: play_star_rating, dtype: int64"
      ]
     },
     "execution_count": 20,
     "metadata": {},
     "output_type": "execute_result"
    }
   ],
   "source": [
    "df.play_star_rating.value_counts().head() #Read the docstring and tinker! See how it works."
   ]
  },
  {
   "cell_type": "code",
   "execution_count": 21,
   "metadata": {},
   "outputs": [
    {
     "name": "stdout",
     "output_type": "stream",
     "text": [
      "<class 'pandas.core.frame.DataFrame'>\n",
      "RangeIndex: 12261 entries, 0 to 12260\n",
      "Data columns (total 14 columns):\n",
      "ages                 12261 non-null object\n",
      "list_price           12261 non-null float64\n",
      "num_reviews          10641 non-null float64\n",
      "piece_count          12261 non-null float64\n",
      "play_star_rating     10486 non-null float64\n",
      "prod_desc            11884 non-null object\n",
      "prod_id              12261 non-null float64\n",
      "prod_long_desc       12261 non-null object\n",
      "review_difficulty    10206 non-null object\n",
      "set_name             12261 non-null object\n",
      "star_rating          10641 non-null float64\n",
      "theme_name           12258 non-null object\n",
      "val_star_rating      10466 non-null float64\n",
      "country              12261 non-null object\n",
      "dtypes: float64(7), object(7)\n",
      "memory usage: 1.3+ MB\n",
      "None\n",
      "0    29\n",
      "1    19\n",
      "2    12\n",
      "3    99\n",
      "4    79\n",
      "Name: list_price, dtype: int32\n",
      "the mean is  65.14199840959138\n",
      "the median is   36.5878\n",
      "the minimum is   2.2724\n",
      "the maximum is   1104.87\n",
      "the standard deviation is   91.9804293059243\n",
      "unique values  [  29.99     19.99     12.99     99.99     79.99     59.99     49.99\n",
      "   39.99     34.99    159.99      9.99    199.99    149.99    119.99\n",
      "   89.99     69.99     24.99     15.99     14.99      6.99     16.99\n",
      "    7.99      4.99      2.49    369.99    169.99    279.99    249.99\n",
      "  239.99    139.99    269.99    129.99     44.99     11.99    349.99\n",
      "    5.99    109.99     54.99     32.99    197.99     88.99     41.99\n",
      "   31.99     26.99     21.99      3.99    299.99    754.99    484.99\n",
      "   36.99    789.99    499.99     84.99    799.99    289.99    179.99\n",
      "  113.9924   75.9924   60.7924   53.1924   45.5924   37.9924  189.9924\n",
      "   30.3924   22.7924   12.1524  227.9924  174.7924  121.5924   34.1924\n",
      "   18.9924   17.4724   13.6724    7.5924   15.1924    9.8724    6.0724\n",
      "    2.2724   91.1924  379.9924  303.9924  288.7924  265.9924  220.3924\n",
      "  151.9924  129.1924   83.5924  136.7924   26.5924   53.162    37.962\n",
      "   30.362    18.962    41.7924   11.3924   68.3924  250.7924   26.6\n",
      "    4.5524  144.3924  197.5924  106.3924  645.9924  607.9924  395.1924\n",
      "   29.6324  205.1924   98.7924  987.9924  167.1924   25.0724  121.9878\n",
      "   85.3878   73.1878   60.9878   48.7878   42.6878   36.5878  195.1878\n",
      "   24.3878   12.1878  219.5878  158.5878  146.3878  109.7878   97.5878\n",
      "   21.9478   18.2878    7.3078   30.4878    9.7478    6.0878    3.0378\n",
      "   54.8878  182.9878  402.5878  292.7878  268.3878  329.3878  426.9878\n",
      "  243.9878   79.2878   67.0878   40.2478   15.8478   28.0478   19.5078\n",
      "  304.9878    4.8678  365.9878  207.3878  853.9878  683.1878  439.1878\n",
      "  609.9878  170.7878  134.1878   20.7278  975.9878  280.5878   45.1278\n",
      "   91.4878   32.9278   14.6278  317.1878  231.7878  128.0878  341.5878\n",
      "  103.6878  487.9878 1035.78     31.1922   19.4922   12.4722  101.3922\n",
      "   77.9922   62.3922   58.4922   54.5922   38.9922   35.0922  155.9922\n",
      "   10.1322    9.3522  179.3922  140.3922  132.5922  116.9922   85.7922\n",
      "   70.1922   50.6922   46.7922   23.3922   15.5922    7.0122    6.2322\n",
      "   27.2922   14.0322    7.7922    5.4522    2.3322  350.9922  171.5922\n",
      "  265.1922  233.9922  194.9922  148.1922   93.5922  272.9922  124.7922\n",
      "  257.3922   42.8922   11.6922  311.9922   14.8122    3.8922  167.6922\n",
      "   74.0922   28.0722   18.7122   28.041   109.1922    3.1122   21.8322\n",
      "  588.8922  378.2922   28.8522  616.1922   13.2522  467.9922  701.9922\n",
      "  288.5922  187.1922   17.1522  121.38     86.598    71.298    61.098\n",
      "   50.898    40.698    35.598   192.78     25.398    12.138   213.18\n",
      "  151.98    141.78    101.898    91.698    23.358    20.298    18.258\n",
      "    7.038    30.498    10.098     6.018     2.958    21.318   182.58\n",
      "  396.78    284.58    264.18     81.498   304.98     96.798   417.18\n",
      "  243.78    111.18     66.198    15.198    27.438   254.898   131.58\n",
      "   45.798     4.998   355.98    202.98    233.58    857.718   821.0898\n",
      "  528.258    39.678   590.58    172.38    967.98    274.38    129.552\n",
      "   86.352    81.552    67.152    62.352    57.552    43.152    38.352\n",
      "  215.952    23.952    12.432   239.952   177.552   158.352   143.952\n",
      "  139.152   124.752   110.352    95.952    76.752    52.752    19.152\n",
      "   12.912    11.952     7.152    47.952    40.752    33.552     9.552\n",
      "    6.192     3.312   431.952   335.952   311.952   167.952   119.952\n",
      "  383.952   115.152   479.952   287.952    28.752   134.352    16.752\n",
      "   91.152    71.952   191.952   163.152   503.952   263.952     4.752\n",
      "   14.352   767.952   715.2     719.952   153.552   955.2      21.552\n",
      "   81.7278  176.8878   10.9678   82.9478   37.8078  251.3078  165.9078\n",
      "  115.8878   69.5278   35.3678   92.7078   17.0678   43.9078  463.5878\n",
      "   47.5678  152.4878  225.6878  140.2878  213.4878   68.3078  104.9078\n",
      "   93.9278  974.78    164.6878   13.4078  107.88     77.88     65.88\n",
      "   53.88     47.88     41.88     36.       30.      167.88     32.4\n",
      "   24.       12.      203.88    131.88    119.88     95.88     89.88\n",
      "   21.6      18.       15.6       6.       27.6       8.4       4.8\n",
      "    2.4     323.88    251.88    239.88    179.88    155.88     71.88\n",
      "  275.88     29.88     23.88     15.48    359.88     10.8      83.88\n",
      "   59.88    143.88      3.6     311.88    215.88    522.      499.2\n",
      "  321.12    539.88    102.      839.88    146.339   109.739    91.439\n",
      "   79.239    60.939    48.739    42.639   231.739    30.439    15.799\n",
      "  243.939   182.939   170.739   121.939   103.639    85.339    73.139\n",
      "   36.539    24.339    21.899     7.259    12.139     6.039     3.599\n",
      "   67.039   219.539   487.939   341.539   329.339   268.339   134.139\n",
      "   97.539   365.939    54.839   280.539   158.539    18.239    32.879\n",
      "  195.139     4.819   426.939   304.939   731.939   292.739  1097.939\n",
      "  353.739   115.839   207.339    45.75     23.1678   46.3478   29.2678\n",
      "  475.7878   52.4478  451.3878   21.35     25.6078  201.2878  136.6278\n",
      "  118.986    90.986    76.986    62.986    41.986   209.986    36.386\n",
      "   25.186    13.986    11.186   153.986   111.986    97.986    55.986\n",
      "   48.986    34.986    27.986    22.386    20.986    18.186    14.686\n",
      "   12.586     6.986     9.786     2.786    39.186   181.986   419.986\n",
      "  307.986   251.986   223.986   200.186   104.986   349.986   139.986\n",
      "   69.986    57.386    23.786    16.786     5.586    83.986    15.386\n",
      "  398.986   195.986   167.986   125.986   284.186   114.786    32.186\n",
      "   29.386   363.986     4.186   713.986   686.252   440.986    33.586\n",
      "  573.986   237.986   909.986   265.986    64.6478   22.3138   31.7078\n",
      "  309.8678  189.0878   16.104   256.1878   43.3954   89.0478   15.2378\n",
      "  378.1878  101.2478  155.87    103.87     90.87     77.87     64.87\n",
      "   58.37     51.87     45.37    220.87     25.987    12.987   259.87\n",
      "  181.87    142.87    129.87    116.87     97.37     90.987    71.37\n",
      "   45.487    38.987    29.887    28.587    25.87     22.087     7.787\n",
      "   19.487    10.387     6.487     3.12    233.87    454.87    389.87\n",
      "  324.87    168.87    493.87    285.87     32.487    23.387    15.587\n",
      "   38.87     84.37    207.87    194.87     22.035   363.87      5.187\n",
      "  415.87    246.87     16.887   605.735   579.735   371.735    28.535\n",
      "  714.87    298.87   1104.87    337.87    127.7929   92.2929   70.9929\n",
      "   63.8929   49.6929   42.5929  212.9929   35.4929   28.3929   14.1929\n",
      "  269.7929  198.7929  177.4929  120.6929   78.0929   56.7929   24.8429\n",
      "   21.2929    9.2229    7.0929   31.9429   17.7429    3.5429   85.1929\n",
      "  425.9929  319.4929  283.9929  248.4929  156.1929  141.9929   99.3929\n",
      "  354.9929  262.6929   12.7729  106.4929   11.3529   16.3229  191.6929\n",
      "   24.1329   22.365   163.2929    4.2529  922.9929  709.9929  567.29\n",
      "  638.9929  184.5929  113.5929 1064.9929  130.4971   86.9971   81.1971\n",
      "   63.7971   57.9971   52.1971   43.4971   37.6971  202.9971   26.0971\n",
      "   13.0471   12.4671  231.9971  173.9971  144.9971  121.7971  115.9971\n",
      "  104.3971   89.8971   72.4971   60.8971   23.1971   20.2971   11.5971\n",
      "    7.2471   34.7971   28.9971   17.3971   10.1471    5.7971    2.8971\n",
      "   78.2971   75.3971   46.3971   31.8971  435.      319.      289.9971\n",
      "  240.6971  197.1971  188.4971  159.4971   92.7971  348.       66.6971\n",
      "   49.2971   40.5971  110.1971  449.21    275.4971  107.2971   95.6971\n",
      "   55.0971  464.      153.6971   98.5971   69.5971  179.7971  136.2971\n",
      "  478.4971  304.4971  345.1       4.93    391.5     226.1971  101.4971\n",
      "  260.9971  870.      725.      667.      133.3971  113.0971 1015.\n",
      "  304.21    165.2971  118.8971  181.7678  153.7078]\n",
      "non unique values  733\n",
      "sample values  10139    60.9878\n",
      "Name: list_price, dtype: float64\n",
      "sort_values 912     2.2724\n",
      "2661    2.3322\n",
      "5103    2.4000\n",
      "133     2.4900\n",
      "7345    2.7860\n",
      "Name: list_price, dtype: float64\n"
     ]
    }
   ],
   "source": [
    "#Keep tinkering!\n",
    "#df.play_star_rating.astype()\n",
    "df.list_price.head()\n",
    "print(df.info())\n",
    "print(df.list_price.astype(int).head())\n",
    "print(\"the mean is \" , df.list_price.mean(0))\n",
    "print(\"the median is  \", df.list_price.median())\n",
    "print(\"the minimum is  \", df.list_price.min())\n",
    "print(\"the maximum is  \", df.list_price.max())\n",
    "print(\"the standard deviation is  \", df.list_price.std())\n",
    "print(\"unique values \", df.list_price.unique())\n",
    "print(\"non unique values \", df.list_price.nunique())\n",
    "print(\"sample values \", df.list_price.sample())\n",
    "print(\"sort_values\", df.list_price.sort_values().head())"
   ]
  },
  {
   "cell_type": "markdown",
   "metadata": {},
   "source": [
    "# Graphing\n",
    "\n",
    "Our bread and butter tool for graphing in python will be **matplotlib**. \n",
    "There are a number of other packages you can also check out for visualization later on such as plotly, folium, and bokeh to name a few, but matplotlib is an industry standard used widely. As with the pandas package, we must import  the matplotlib package to use its built in functions and methods. Rather then import the entire package however, we import only the piece we intend to use (hence the dot notation) and again alias this under the shorthand *plt*. Finally, the iPython magic command **% matplotlib inline** makes these graphs appear within our jupyter notebook."
   ]
  },
  {
   "cell_type": "code",
   "execution_count": 35,
   "metadata": {},
   "outputs": [],
   "source": [
    "#import a subset of the matplotlib package under the alias 'plt'\n",
    "import matplotlib.pyplot as plt\n",
    "\n",
    "#ipython magic command for displaying graphs within the notebook\n",
    "%matplotlib inline"
   ]
  },
  {
   "cell_type": "code",
   "execution_count": 23,
   "metadata": {},
   "outputs": [
    {
     "name": "stdout",
     "output_type": "stream",
     "text": [
      "Star Wars™                   1377\n",
      "DUPLO®                       1166\n",
      "City                         1092\n",
      "Juniors                       978\n",
      "THE LEGO® NINJAGO® MOVIE™     796\n",
      "Name: theme_name, dtype: int64\n"
     ]
    },
    {
     "data": {
      "text/plain": [
       "<matplotlib.axes._subplots.AxesSubplot at 0x8fa7588>"
      ]
     },
     "execution_count": 23,
     "metadata": {},
     "output_type": "execute_result"
    },
    {
     "data": {
      "image/png": "[encoded data removed]",
      "text/plain": [
       "<Figure size 432x288 with 1 Axes>"
      ]
     },
     "metadata": {
      "needs_background": "light"
     },
     "output_type": "display_data"
    }
   ],
   "source": [
    "to_graph = df.theme_name.value_counts()[:5]\n",
    "print(to_graph)\n",
    "to_graph.plot(kind='barh')"
   ]
  },
  {
   "cell_type": "markdown",
   "metadata": {},
   "source": [
    "# Adding labels\n",
    "The graph above is a good start, but we should be sure to add some labels! To do this we make successive calls to the `plt` package we imported. Some common methods you should be familiar with include:  \n",
    "* plt.title()\n",
    "* plt.xlabel()\n",
    "* plt.ylabel()\n",
    "* plt.legend()\n",
    "* plt.xticks()\n",
    "* plt.yticks()"
   ]
  },
  {
   "cell_type": "code",
   "execution_count": 28,
   "metadata": {},
   "outputs": [
    {
     "data": {
      "text/plain": [
       "<matplotlib.legend.Legend at 0xa463b00>"
      ]
     },
     "execution_count": 28,
     "metadata": {},
     "output_type": "execute_result"
    },
    {
     "data": {
      "image/png": "[encoded data removed]",
      "text/plain": [
       "<Figure size 432x288 with 1 Axes>"
      ]
     },
     "metadata": {
      "needs_background": "light"
     },
     "output_type": "display_data"
    }
   ],
   "source": [
    "to_graph = df.theme_name.value_counts()[:5]\n",
    "to_graph.plot(kind='barh') #lots of other optional parameters can be passed such as color\n",
    "plt.title('Top 5 Lego Themes', fontsize=16) #fontsize is optional\n",
    "plt.xlabel('Number of Lego Sets') #you could also pass in fontsize if you wanted here\n",
    "plt.ylabel('Theme') #you could also rotate text if you wanted\n",
    "plt.legend()"
   ]
  },
  {
   "cell_type": "markdown",
   "metadata": {},
   "source": [
    "# Practice and Explore\n",
    "\n",
    "Take a minute to try chaining some of these methods together to create a few of your own visuals for practice. Some ideas can include making a scatter plot with `plt.scatter(x , y)` where you pass in two series (one as x and the other as y), plotting histograms with the `series.hist()` method, or creating simple bar graphs as shown above."
   ]
  },
  {
   "cell_type": "code",
   "execution_count": 48,
   "metadata": {},
   "outputs": [
    {
     "name": "stdout",
     "output_type": "stream",
     "text": [
      "<class 'pandas.core.frame.DataFrame'>\n",
      "RangeIndex: 12261 entries, 0 to 12260\n",
      "Data columns (total 14 columns):\n",
      "ages                 12261 non-null object\n",
      "list_price           12261 non-null float64\n",
      "num_reviews          10641 non-null float64\n",
      "piece_count          12261 non-null float64\n",
      "play_star_rating     10486 non-null float64\n",
      "prod_desc            11884 non-null object\n",
      "prod_id              12261 non-null float64\n",
      "prod_long_desc       12261 non-null object\n",
      "review_difficulty    10206 non-null object\n",
      "set_name             12261 non-null object\n",
      "star_rating          10641 non-null float64\n",
      "theme_name           12258 non-null object\n",
      "val_star_rating      10466 non-null float64\n",
      "country              12261 non-null object\n",
      "dtypes: float64(7), object(7)\n",
      "memory usage: 1.3+ MB\n"
     ]
    }
   ],
   "source": [
    "df.info()\n",
    "#df.describe()"
   ]
  },
  {
   "cell_type": "code",
   "execution_count": 52,
   "metadata": {},
   "outputs": [
    {
     "data": {
      "text/plain": [
       "<matplotlib.collections.PathCollection at 0x8d4f6d8>"
      ]
     },
     "execution_count": 52,
     "metadata": {},
     "output_type": "execute_result"
    },
    {
     "data": {
      "image/png": "[encoded data removed]",
      "text/plain": [
       "<Figure size 432x288 with 1 Axes>"
      ]
     },
     "metadata": {
      "needs_background": "light"
     },
     "output_type": "display_data"
    }
   ],
   "source": [
    "import matplotlib.pyplot as plt\n",
    "%matplotlib inline\n",
    "plt.scatter(df.list_price, df.star_rating)"
   ]
  },
  {
   "cell_type": "code",
   "execution_count": 53,
   "metadata": {},
   "outputs": [
    {
     "data": {
      "text/plain": [
       "<matplotlib.axes._subplots.AxesSubplot at 0x8d7a1d0>"
      ]
     },
     "execution_count": 53,
     "metadata": {},
     "output_type": "execute_result"
    },
    {
     "data": {
      "image/png": "[encoded data removed]",
      "text/plain": [
       "<Figure size 432x288 with 1 Axes>"
      ]
     },
     "metadata": {
      "needs_background": "light"
     },
     "output_type": "display_data"
    }
   ],
   "source": [
    "df.play_star_rating.hist()"
   ]
  },
  {
   "cell_type": "code",
   "execution_count": null,
   "metadata": {},
   "outputs": [],
   "source": [
    "#Your code here"
   ]
  }
 ],
 "metadata": {
  "kernelspec": {
   "display_name": "learn-env",
   "language": "python",
   "name": "learn-env"
  },
  "language_info": {
   "codemirror_mode": {
    "name": "ipython",
    "version": 3
   },
   "file_extension": ".py",
   "mimetype": "text/x-python",
   "name": "python",
   "nbconvert_exporter": "python",
   "pygments_lexer": "ipython3",
   "version": "3.6.6"
  }
 },
 "nbformat": 4,
 "nbformat_minor": 2
}
